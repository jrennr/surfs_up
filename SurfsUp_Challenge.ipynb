{
 "cells": [
  {
   "cell_type": "code",
   "execution_count": 5,
   "metadata": {},
   "outputs": [],
   "source": [
    "import sqlite3"
   ]
  },
  {
   "cell_type": "code",
   "execution_count": 6,
   "metadata": {},
   "outputs": [],
   "source": [
    "# Dependencies\n",
    "import numpy as np\n",
    "import pandas as pd\n",
    "\n",
    "# Python SQL toolkit and Object Relational Mapper\n",
    "import sqlalchemy\n",
    "from sqlalchemy.ext.automap import automap_base\n",
    "from sqlalchemy.orm import Session\n",
    "from sqlalchemy.ext.declarative import declarative_base\n",
    "from sqlalchemy.orm import sessionmaker\n",
    "from sqlalchemy import create_engine, func, Column, Integer, String, Float, Date"
   ]
  },
  {
   "cell_type": "code",
   "execution_count": 24,
   "metadata": {
    "scrolled": true
   },
   "outputs": [
    {
     "name": "stdout",
     "output_type": "stream",
     "text": [
      "            date  temperature\n",
      "0     2010-06-01         78.0\n",
      "1     2010-06-02         76.0\n",
      "2     2010-06-03         78.0\n",
      "3     2010-06-04         76.0\n",
      "4     2010-06-05         77.0\n",
      "...          ...          ...\n",
      "1695  2017-06-26         79.0\n",
      "1696  2017-06-27         74.0\n",
      "1697  2017-06-28         74.0\n",
      "1698  2017-06-29         76.0\n",
      "1699  2017-06-30         75.0\n",
      "\n",
      "[1700 rows x 2 columns]\n"
     ]
    }
   ],
   "source": [
    "#engine = create_engine(\"rC:\\Users\\Columbia bootcamp\\Surfs_Up\\Starter_Code (25)\\Starter_Code\\hawaii.sqlite\")\n",
    "engine = create_engine(\"sqlite:///C:/Users/Columbia bootcamp/Surfs_Up/Starter_Code (25)/Starter_Code/hawaii.sqlite\")\n",
    "\n",
    "# reflect an existing database into a new model\n",
    "Base = automap_base()\n",
    "# reflect the tables\n",
    "Base.prepare(engine, reflect=True)\n",
    "\n",
    "# Save references to each table\n",
    "Measurement = Base.classes.measurement\n",
    "Station = Base.classes.station\n",
    "session = Session(bind=engine)\n",
    "june_temperatures = session.query(Measurement.date, Measurement.tobs).filter(extract('month', Measurement.date) == 6).all()\n",
    "june_temperatures_df = pd.DataFrame(june_temperatures, columns=['date', 'temperature'])\n",
    "print(june_temperatures_df)"
   ]
  },
  {
   "cell_type": "code",
   "execution_count": 25,
   "metadata": {},
   "outputs": [],
   "source": [
    "# Create our session (link) from Python to the DB\n",
    "session = Session(engine)"
   ]
  },
  {
   "cell_type": "code",
   "execution_count": 27,
   "metadata": {},
   "outputs": [],
   "source": [
    "# Import the sqlalchemy extract function.\n",
    "from sqlalchemy import extract\n",
    "\n",
    "# 1. Write a query that filters the Measurement table to retrieve the temperatures for the month of June. \n",
    "#june_temperatures = session.query(Measurement.temperature).filter(extract('month', Measurement.date) == 6).all()\n",
    "june_temperatures = session.query(Measurement.tobs).filter(extract('month', Measurement.date) == 6).all()"
   ]
  },
  {
   "cell_type": "code",
   "execution_count": 29,
   "metadata": {},
   "outputs": [],
   "source": [
    "# 2. Convert the June temperatures to a list.\n",
    "june_temperatures = session.query(Measurement.tobs).filter(extract('month', Measurement.date) == 6).all()\n",
    "june_temperatures_list = [temp[0] for temp in june_temperatures]"
   ]
  },
  {
   "cell_type": "code",
   "execution_count": 30,
   "metadata": {},
   "outputs": [],
   "source": [
    "# 3. Create a DataFrame from the list of temperatures for the month of June. \n",
    "june_temperatures_df = pd.DataFrame({'June Temperatures': june_temperatures_list})"
   ]
  },
  {
   "cell_type": "code",
   "execution_count": 31,
   "metadata": {},
   "outputs": [
    {
     "name": "stdout",
     "output_type": "stream",
     "text": [
      "       June Temperatures\n",
      "count        1700.000000\n",
      "mean           74.944118\n",
      "std             3.257417\n",
      "min            64.000000\n",
      "25%            73.000000\n",
      "50%            75.000000\n",
      "75%            77.000000\n",
      "max            85.000000\n"
     ]
    }
   ],
   "source": [
    "# 4. Calculate and print out the summary statistics for the June temperature DataFrame.\n",
    "summary_statistics = june_temperatures_df.describe()\n",
    "print(summary_statistics)"
   ]
  },
  {
   "cell_type": "code",
   "execution_count": 32,
   "metadata": {},
   "outputs": [
    {
     "name": "stdout",
     "output_type": "stream",
     "text": [
      "       June Temperatures\n",
      "count        1700.000000\n",
      "mean           74.944118\n",
      "std             3.257417\n",
      "min            64.000000\n",
      "25%            73.000000\n",
      "50%            75.000000\n",
      "75%            77.000000\n",
      "max            85.000000\n"
     ]
    }
   ],
   "source": [
    "# 5. Return to your challenge instructions to compare your summary statistics\n",
    "print(summary_statistics)"
   ]
  },
  {
   "cell_type": "code",
   "execution_count": 33,
   "metadata": {},
   "outputs": [],
   "source": [
    "# 6. Write a query that filters the Measurement table to retrieve the temperatures for the month of December.\n",
    "from sqlalchemy import extract\n",
    "\n",
    "december_temperatures = session.query(Measurement.tobs).filter(extract('month', Measurement.date) == 12).all()\n",
    "\n",
    "# Convert the query result to a list of temperatures\n",
    "december_temperatures_list = [temp[0] for temp in december_temperatures]\n"
   ]
  },
  {
   "cell_type": "code",
   "execution_count": 34,
   "metadata": {},
   "outputs": [
    {
     "name": "stdout",
     "output_type": "stream",
     "text": [
      "[76.0, 74.0, 74.0, 64.0, 64.0, 67.0, 77.0, 66.0, 69.0, 68.0, 68.0, 71.0, 74.0, 67.0, 66.0, 69.0, 71.0, 70.0, 70.0, 74.0, 74.0, 71.0, 75.0, 75.0, 72.0, 69.0, 68.0, 73.0, 74.0, 73.0, 73.0, 73.0, 73.0, 71.0, 73.0, 73.0, 77.0, 72.0, 71.0, 73.0, 70.0, 73.0, 69.0, 74.0, 72.0, 71.0, 72.0, 72.0, 70.0, 73.0, 73.0, 72.0, 73.0, 73.0, 72.0, 63.0, 65.0, 71.0, 76.0, 70.0, 76.0, 69.0, 69.0, 69.0, 74.0, 76.0, 74.0, 73.0, 73.0, 74.0, 73.0, 73.0, 73.0, 74.0, 74.0, 71.0, 73.0, 72.0, 64.0, 66.0, 73.0, 72.0, 65.0, 64.0, 69.0, 68.0, 77.0, 71.0, 71.0, 69.0, 68.0, 68.0, 69.0, 70.0, 72.0, 76.0, 75.0, 69.0, 71.0, 71.0, 71.0, 68.0, 65.0, 70.0, 69.0, 69.0, 71.0, 67.0, 73.0, 74.0, 73.0, 67.0, 74.0, 75.0, 75.0, 74.0, 67.0, 73.0, 73.0, 71.0, 72.0, 71.0, 68.0, 65.0, 69.0, 70.0, 70.0, 74.0, 71.0, 74.0, 73.0, 72.0, 74.0, 72.0, 74.0, 75.0, 74.0, 70.0, 74.0, 70.0, 66.0, 61.0, 63.0, 63.0, 63.0, 63.0, 67.0, 56.0, 75.0, 77.0, 75.0, 75.0, 75.0, 75.0, 71.0, 70.0, 74.0, 74.0, 75.0, 72.0, 70.0, 66.0, 74.0, 75.0, 74.0, 75.0, 76.0, 74.0, 75.0, 74.0, 73.0, 68.0, 73.0, 74.0, 74.0, 77.0, 70.0, 70.0, 69.0, 75.0, 72.0, 69.0, 71.0, 68.0, 67.0, 69.0, 73.0, 70.0, 70.0, 70.0, 66.0, 67.0, 70.0, 66.0, 62.0, 71.0, 73.0, 69.0, 77.0, 74.0, 71.0, 72.0, 74.0, 74.0, 74.0, 74.0, 71.0, 73.0, 69.0, 66.0, 73.0, 72.0, 73.0, 74.0, 73.0, 66.0, 64.0, 66.0, 75.0, 65.0, 69.0, 71.0, 69.0, 78.0, 74.0, 68.0, 68.0, 70.0, 70.0, 71.0, 71.0, 71.0, 71.0, 69.0, 69.0, 72.0, 76.0, 72.0, 73.0, 73.0, 74.0, 69.0, 68.0, 74.0, 73.0, 73.0, 72.0, 71.0, 71.0, 68.0, 72.0, 71.0, 72.0, 71.0, 71.0, 72.0, 71.0, 71.0, 72.0, 72.0, 72.0, 69.0, 71.0, 71.0, 69.0, 74.0, 72.0, 71.0, 71.0, 72.0, 71.0, 67.0, 65.0, 70.0, 76.0, 68.0, 71.0, 71.0, 68.0, 70.0, 73.0, 73.0, 72.0, 71.0, 70.0, 72.0, 71.0, 72.0, 72.0, 71.0, 70.0, 71.0, 71.0, 71.0, 66.0, 65.0, 73.0, 72.0, 72.0, 65.0, 65.0, 68.0, 67.0, 76.0, 70.0, 71.0, 69.0, 67.0, 69.0, 71.0, 69.0, 72.0, 76.0, 75.0, 72.0, 75.0, 71.0, 69.0, 68.0, 68.0, 72.0, 70.0, 72.0, 75.0, 69.0, 72.0, 73.0, 73.0, 72.0, 73.0, 74.0, 73.0, 72.0, 68.0, 72.0, 71.0, 69.0, 67.0, 70.0, 72.0, 67.0, 67.0, 69.0, 67.0, 74.0, 70.0, 73.0, 71.0, 71.0, 71.0, 71.0, 72.0, 76.0, 78.0, 76.0, 73.0, 70.0, 68.0, 77.0, 66.0, 65.0, 69.0, 69.0, 66.0, 64.0, 74.0, 75.0, 80.0, 72.0, 73.0, 70.0, 69.0, 77.0, 74.0, 77.0, 72.0, 69.0, 69.0, 75.0, 75.0, 72.0, 73.0, 78.0, 75.0, 75.0, 74.0, 73.0, 70.0, 70.0, 72.0, 74.0, 74.0, 67.0, 74.0, 70.0, 73.0, 71.0, 71.0, 69.0, 68.0, 70.0, 71.0, 72.0, 70.0, 71.0, 72.0, 68.0, 68.0, 70.0, 70.0, 63.0, 71.0, 67.0, 69.0, 74.0, 72.0, 70.0, 69.0, 73.0, 74.0, 74.0, 73.0, 71.0, 72.0, 69.0, 71.0, 73.0, 73.0, 71.0, 72.0, 71.0, 64.0, 71.0, 62.0, 70.0, 64.0, 64.0, 70.0, 70.0, 69.0, 72.0, 68.0, 68.0, 65.0, 67.0, 68.0, 70.0, 67.0, 73.0, 70.0, 68.0, 72.0, 69.0, 71.0, 70.0, 75.0, 70.0, 68.0, 73.0, 71.0, 71.0, 70.0, 70.0, 70.0, 70.0, 72.0, 74.0, 71.0, 70.0, 70.0, 69.0, 71.0, 70.0, 70.0, 72.0, 72.0, 72.0, 72.0, 72.0, 70.0, 66.0, 71.0, 68.0, 79.0, 76.0, 73.0, 75.0, 71.0, 76.0, 74.0, 73.0, 73.0, 74.0, 73.0, 72.0, 76.0, 75.0, 77.0, 74.0, 76.0, 75.0, 76.0, 73.0, 75.0, 73.0, 73.0, 74.0, 78.0, 78.0, 78.0, 75.0, 75.0, 75.0, 74.0, 77.0, 72.0, 72.0, 73.0, 71.0, 75.0, 76.0, 74.0, 75.0, 74.0, 75.0, 73.0, 72.0, 72.0, 75.0, 74.0, 74.0, 72.0, 73.0, 70.0, 76.0, 78.0, 76.0, 78.0, 74.0, 71.0, 78.0, 70.0, 74.0, 74.0, 75.0, 76.0, 78.0, 72.0, 73.0, 76.0, 72.0, 72.0, 78.0, 76.0, 76.0, 77.0, 79.0, 73.0, 79.0, 77.0, 78.0, 76.0, 78.0, 77.0, 79.0, 75.0, 77.0, 76.0, 78.0, 78.0, 77.0, 78.0, 78.0, 76.0, 75.0, 72.0, 75.0, 77.0, 75.0, 77.0, 76.0, 76.0, 75.0, 72.0, 76.0, 75.0, 72.0, 72.0, 75.0, 69.0, 75.0, 74.0, 78.0, 77.0, 76.0, 72.0, 73.0, 74.0, 74.0, 74.0, 73.0, 73.0, 71.0, 72.0, 72.0, 75.0, 66.0, 66.0, 67.0, 76.0, 68.0, 69.0, 71.0, 70.0, 68.0, 66.0, 69.0, 69.0, 71.0, 72.0, 69.0, 72.0, 70.0, 76.0, 69.0, 71.0, 72.0, 71.0, 78.0, 73.0, 74.0, 68.0, 71.0, 76.0, 75.0, 74.0, 73.0, 73.0, 74.0, 69.0, 74.0, 72.0, 70.0, 67.0, 69.0, 73.0, 75.0, 74.0, 72.0, 71.0, 67.0, 74.0, 70.0, 70.0, 70.0, 71.0, 70.0, 71.0, 71.0, 68.0, 74.0, 75.0, 74.0, 77.0, 76.0, 77.0, 75.0, 76.0, 75.0, 77.0, 75.0, 77.0, 74.0, 78.0, 77.0, 76.0, 69.0, 70.0, 64.0, 75.0, 69.0, 65.0, 76.0, 81.0, 71.0, 71.0, 71.0, 82.0, 74.0, 75.0, 77.0, 74.0, 68.0, 72.0, 70.0, 68.0, 74.0, 71.0, 70.0, 70.0, 70.0, 68.0, 68.0, 68.0, 66.0, 71.0, 76.0, 73.0, 70.0, 68.0, 71.0, 71.0, 68.0, 71.0, 70.0, 73.0, 78.0, 76.0, 73.0, 74.0, 63.0, 72.0, 75.0, 74.0, 72.0, 68.0, 74.0, 73.0, 73.0, 72.0, 73.0, 72.0, 78.0, 74.0, 74.0, 78.0, 78.0, 61.0, 69.0, 65.0, 77.0, 67.0, 69.0, 75.0, 67.0, 71.0, 74.0, 66.0, 66.0, 77.0, 70.0, 73.0, 71.0, 71.0, 71.0, 67.0, 71.0, 74.0, 76.0, 72.0, 74.0, 75.0, 69.0, 69.0, 69.0, 75.0, 73.0, 73.0, 72.0, 72.0, 72.0, 74.0, 72.0, 73.0, 73.0, 73.0, 73.0, 74.0, 73.0, 71.0, 72.0, 73.0, 74.0, 72.0, 73.0, 73.0, 71.0, 73.0, 75.0, 71.0, 72.0, 73.0, 71.0, 65.0, 77.0, 72.0, 78.0, 71.0, 72.0, 71.0, 72.0, 76.0, 75.0, 75.0, 76.0, 73.0, 72.0, 74.0, 74.0, 74.0, 73.0, 77.0, 73.0, 70.0, 72.0, 76.0, 65.0, 74.0, 73.0, 77.0, 76.0, 69.0, 78.0, 76.0, 68.0, 76.0, 68.0, 79.0, 69.0, 64.0, 70.0, 69.0, 73.0, 70.0, 74.0, 76.0, 76.0, 69.0, 73.0, 73.0, 65.0, 70.0, 72.0, 72.0, 75.0, 74.0, 69.0, 73.0, 75.0, 76.0, 74.0, 73.0, 74.0, 71.0, 72.0, 73.0, 72.0, 72.0, 73.0, 72.0, 75.0, 76.0, 67.0, 69.0, 70.0, 75.0, 74.0, 71.0, 74.0, 71.0, 72.0, 74.0, 75.0, 73.0, 75.0, 76.0, 68.0, 71.0, 68.0, 66.0, 63.0, 62.0, 67.0, 68.0, 63.0, 56.0, 76.0, 75.0, 74.0, 76.0, 69.0, 71.0, 72.0, 74.0, 75.0, 72.0, 78.0, 69.0, 75.0, 75.0, 74.0, 74.0, 76.0, 73.0, 75.0, 75.0, 74.0, 79.0, 75.0, 76.0, 76.0, 69.0, 72.0, 76.0, 75.0, 75.0, 75.0, 70.0, 70.0, 74.0, 73.0, 72.0, 78.0, 67.0, 69.0, 71.0, 74.0, 63.0, 76.0, 76.0, 71.0, 76.0, 77.0, 73.0, 71.0, 78.0, 78.0, 75.0, 75.0, 72.0, 77.0, 72.0, 72.0, 71.0, 72.0, 74.0, 66.0, 61.0, 58.0, 60.0, 71.0, 65.0, 72.0, 70.0, 68.0, 67.0, 71.0, 65.0, 64.0, 65.0, 69.0, 70.0, 70.0, 68.0, 69.0, 71.0, 70.0, 71.0, 76.0, 71.0, 72.0, 73.0, 77.0, 67.0, 69.0, 72.0, 74.0, 71.0, 70.0, 68.0, 70.0, 66.0, 72.0, 70.0, 70.0, 70.0, 70.0, 73.0, 71.0, 69.0, 73.0, 72.0, 71.0, 69.0, 70.0, 69.0, 70.0, 75.0, 71.0, 70.0, 69.0, 71.0, 65.0, 67.0, 72.0, 67.0, 76.0, 67.0, 72.0, 69.0, 66.0, 75.0, 74.0, 72.0, 72.0, 72.0, 68.0, 74.0, 73.0, 73.0, 72.0, 70.0, 70.0, 71.0, 70.0, 72.0, 65.0, 62.0, 73.0, 71.0, 70.0, 62.0, 69.0, 69.0, 66.0, 72.0, 73.0, 70.0, 66.0, 64.0, 65.0, 73.0, 74.0, 67.0, 73.0, 70.0, 67.0, 71.0, 78.0, 69.0, 63.0, 64.0, 66.0, 69.0, 69.0, 71.0, 72.0, 69.0, 70.0, 73.0, 68.0, 69.0, 73.0, 73.0, 70.0, 65.0, 70.0, 68.0, 68.0, 66.0, 68.0, 65.0, 62.0, 62.0, 65.0, 61.0, 70.0, 68.0, 67.0, 68.0, 71.0, 69.0, 71.0, 71.0, 71.0, 72.0, 72.0, 68.0, 69.0, 66.0, 60.0, 63.0, 68.0, 64.0, 63.0, 63.0, 59.0, 73.0, 74.0, 75.0, 75.0, 70.0, 72.0, 69.0, 68.0, 74.0, 72.0, 75.0, 79.0, 69.0, 67.0, 73.0, 74.0, 75.0, 72.0, 76.0, 74.0, 75.0, 74.0, 74.0, 76.0, 74.0, 75.0, 75.0, 73.0, 76.0, 74.0, 73.0, 74.0, 70.0, 72.0, 70.0, 67.0, 67.0, 69.0, 70.0, 68.0, 69.0, 69.0, 66.0, 65.0, 68.0, 62.0, 75.0, 70.0, 69.0, 76.0, 76.0, 74.0, 73.0, 71.0, 74.0, 74.0, 72.0, 71.0, 72.0, 74.0, 69.0, 67.0, 70.0, 74.0, 74.0, 75.0, 69.0, 65.0, 66.0, 68.0, 77.0, 65.0, 72.0, 65.0, 66.0, 74.0, 66.0, 63.0, 63.0, 69.0, 69.0, 73.0, 72.0, 68.0, 67.0, 69.0, 74.0, 72.0, 76.0, 70.0, 73.0, 70.0, 76.0, 66.0, 69.0, 69.0, 70.0, 71.0, 73.0, 65.0, 71.0, 65.0, 75.0, 72.0, 74.0, 67.0, 65.0, 68.0, 66.0, 73.0, 74.0, 76.0, 72.0, 69.0, 71.0, 70.0, 70.0, 73.0, 71.0, 76.0, 72.0, 77.0, 70.0, 65.0, 72.0, 75.0, 68.0, 72.0, 64.0, 75.0, 69.0, 80.0, 73.0, 73.0, 73.0, 72.0, 73.0, 75.0, 76.0, 74.0, 72.0, 72.0, 70.0, 70.0, 71.0, 61.0, 65.0, 74.0, 71.0, 63.0, 64.0, 66.0, 68.0, 66.0, 70.0, 68.0, 68.0, 66.0, 75.0, 67.0, 70.0, 72.0, 69.0, 72.0, 69.0, 65.0, 71.0, 73.0, 69.0, 69.0, 63.0, 63.0, 71.0, 79.0, 67.0, 67.0, 64.0, 63.0, 68.0, 77.0, 79.0, 74.0, 68.0, 64.0, 70.0, 62.0, 68.0, 67.0, 70.0, 66.0, 64.0, 62.0, 64.0, 63.0, 69.0, 64.0, 70.0, 72.0, 72.0, 64.0, 71.0, 68.0, 81.0, 78.0, 69.0, 72.0, 70.0, 62.0, 76.0, 72.0, 76.0, 57.0, 64.0, 57.0, 71.0, 70.0, 67.0, 77.0, 69.0, 61.0, 62.0, 63.0, 73.0, 64.0, 67.0, 69.0, 80.0, 71.0, 73.0, 65.0, 68.0, 68.0, 69.0, 72.0, 69.0, 69.0, 67.0, 69.0, 73.0, 71.0, 71.0, 70.0, 71.0, 70.0, 75.0, 71.0, 73.0, 71.0, 71.0, 68.0, 67.0, 70.0, 67.0, 69.0, 71.0, 69.0, 69.0, 68.0, 69.0, 69.0, 67.0, 69.0, 68.0, 70.0, 68.0, 69.0, 71.0, 65.0, 69.0, 69.0, 69.0, 69.0, 70.0, 73.0, 67.0, 74.0, 77.0, 74.0, 73.0, 71.0, 73.0, 68.0, 69.0, 71.0, 72.0, 72.0, 67.0, 67.0, 69.0, 66.0, 66.0, 69.0, 66.0, 68.0, 65.0, 68.0, 67.0, 71.0, 65.0, 71.0, 69.0, 69.0, 62.0, 62.0, 67.0, 65.0, 68.0, 67.0, 75.0, 68.0, 68.0, 70.0, 83.0, 68.0, 70.0, 70.0, 68.0, 76.0, 72.0, 68.0, 64.0, 72.0, 72.0, 68.0, 70.0, 69.0, 68.0, 70.0, 67.0, 70.0, 70.0, 71.0, 70.0, 69.0, 71.0, 68.0, 70.0, 67.0, 70.0, 73.0, 70.0, 66.0, 70.0, 72.0, 71.0, 68.0, 71.0, 67.0, 65.0, 66.0, 70.0, 69.0, 70.0, 72.0, 67.0, 68.0, 64.0, 66.0, 65.0, 62.0, 68.0, 67.0, 73.0, 70.0, 71.0, 71.0, 70.0, 71.0, 69.0, 70.0, 73.0, 70.0, 72.0, 71.0, 69.0, 74.0, 73.0, 69.0, 71.0, 68.0, 72.0, 71.0, 70.0, 72.0, 71.0, 69.0, 71.0, 67.0, 71.0, 69.0, 71.0, 71.0, 67.0, 76.0, 67.0, 67.0, 68.0, 71.0, 68.0, 68.0, 69.0, 65.0, 70.0, 69.0, 64.0, 60.0, 67.0, 72.0, 73.0, 70.0, 68.0, 69.0, 69.0, 69.0, 71.0, 71.0, 71.0, 69.0, 65.0, 65.0]\n"
     ]
    }
   ],
   "source": [
    "# 7. Convert the December temperatures to a list.\n",
    "december_temperatures_list = [temp[0] for temp in december_temperatures]\n",
    "print(december_temperatures_list)\n"
   ]
  },
  {
   "cell_type": "code",
   "execution_count": 35,
   "metadata": {},
   "outputs": [
    {
     "name": "stdout",
     "output_type": "stream",
     "text": [
      "      December Temperatures\n",
      "0                      76.0\n",
      "1                      74.0\n",
      "2                      74.0\n",
      "3                      64.0\n",
      "4                      64.0\n",
      "...                     ...\n",
      "1512                   71.0\n",
      "1513                   71.0\n",
      "1514                   69.0\n",
      "1515                   65.0\n",
      "1516                   65.0\n",
      "\n",
      "[1517 rows x 1 columns]\n"
     ]
    }
   ],
   "source": [
    "# 8. Create a DataFrame from the list of temperatures for the month of December. \n",
    "december_temperatures_df = pd.DataFrame({'December Temperatures': december_temperatures_list})\n",
    "\n",
    "# Display the DataFrame\n",
    "print(december_temperatures_df)"
   ]
  },
  {
   "cell_type": "code",
   "execution_count": 36,
   "metadata": {},
   "outputs": [
    {
     "name": "stdout",
     "output_type": "stream",
     "text": [
      "       December Temperatures\n",
      "count            1517.000000\n",
      "mean               71.041529\n",
      "std                 3.745920\n",
      "min                56.000000\n",
      "25%                69.000000\n",
      "50%                71.000000\n",
      "75%                74.000000\n",
      "max                83.000000\n"
     ]
    }
   ],
   "source": [
    "# 9. Calculate and print out the summary statistics for the Decemeber temperature DataFrame.\n",
    "december_temperatures_df = pd.DataFrame({'December Temperatures': december_temperatures_list})\n",
    "\n",
    "summary_statistics = december_temperatures_df.describe()\n",
    "print(summary_statistics)"
   ]
  },
  {
   "cell_type": "code",
   "execution_count": 38,
   "metadata": {},
   "outputs": [
    {
     "name": "stdout",
     "output_type": "stream",
     "text": [
      "Summary Statistics for June Temperatures:\n",
      "       June Temperatures\n",
      "count        1700.000000\n",
      "mean           74.944118\n",
      "std             3.257417\n",
      "min            64.000000\n",
      "25%            73.000000\n",
      "50%            75.000000\n",
      "75%            77.000000\n",
      "max            85.000000\n",
      "\n",
      "Summary Statistics for December Temperatures:\n",
      "       December Temperatures\n",
      "count            1517.000000\n",
      "mean               71.041529\n",
      "std                 3.745920\n",
      "min                56.000000\n",
      "25%                69.000000\n",
      "50%                71.000000\n",
      "75%                74.000000\n",
      "max                83.000000\n"
     ]
    }
   ],
   "source": [
    "# 10. Return to your challenge instructions to compare your summary statistics\n",
    "june_summary_statistics = june_temperatures_df.describe()\n",
    "december_summary_statistics = december_temperatures_df.describe()\n",
    "# Print the calculated summary statistics for June temperatures\n",
    "print(\"Summary Statistics for June Temperatures:\")\n",
    "print(june_summary_statistics)\n",
    "\n",
    "# Print the calculated summary statistics for December temperatures\n",
    "print(\"\\nSummary Statistics for December Temperatures:\")\n",
    "print(december_summary_statistics)\n"
   ]
  },
  {
   "cell_type": "code",
   "execution_count": null,
   "metadata": {},
   "outputs": [],
   "source": []
  }
 ],
 "metadata": {
  "kernelspec": {
   "display_name": "Python 3 (ipykernel)",
   "language": "python",
   "name": "python3"
  },
  "language_info": {
   "codemirror_mode": {
    "name": "ipython",
    "version": 3
   },
   "file_extension": ".py",
   "mimetype": "text/x-python",
   "name": "python",
   "nbconvert_exporter": "python",
   "pygments_lexer": "ipython3",
   "version": "3.7.13"
  }
 },
 "nbformat": 4,
 "nbformat_minor": 2
}
